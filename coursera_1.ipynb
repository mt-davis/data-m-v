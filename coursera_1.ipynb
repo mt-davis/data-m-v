{
  "cells": [
    {
      "metadata": {
        "_uuid": "0668d4ea1f35bbf4636eeb72dfc9d70f91454185",
        "_cell_guid": "4c5f0d4b-b307-4ee1-bb16-46ed9c45e840"
      },
      "cell_type": "markdown",
      "source": "#  Usage Cannabis By Age within a 12 Month Period"
    },
    {
      "metadata": {
        "_uuid": "62490d3e135c9f94a8744da828c7c3b24f0d8339",
        "_cell_guid": "f8b4bcf1-cdb7-4344-ab9a-c8f2d9e7fa60"
      },
      "cell_type": "markdown",
      "source": "This report is to study the assiication between opioid usage and economic status."
    },
    {
      "metadata": {
        "_uuid": "888e95ec350671f780878323a8e1862e7d597b7b",
        "_cell_guid": "b71f0b8a-2336-4417-852c-3ee6d6208130"
      },
      "cell_type": "markdown",
      "source": "# Data Dictionary\n### NESARC Codebook\n\n<a href=\"https://docs.google.com/document/d/1UZZsrkrEyJPg5Bzu1hdWrQL7jRm3q0StwmoibL4_L-A/edit?usp=sharing\" target=\"_blank\">NESARC Codebook for this kernal</a>\n\n"
    },
    {
      "metadata": {
        "_uuid": "335e1764b6dd99bb326db39acff746160dc546c3",
        "_cell_guid": "afefe97b-7795-4e28-b342-9f23d0918d96",
        "trusted": false,
        "collapsed": true
      },
      "cell_type": "code",
      "source": "# importanting libaries\nimport pandas as pd\nimport numpy as np\n\n#bug fix for display formats to avoid run time errors\npd.set_option('display.float_format', lambda x:'%f'%x)\n#calling in the dataset from csv file\ndf = pd.read_csv('../input/nesarc_pds.csv', low_memory=False) #'low_memory=Flase' increases effciencies and Reduces error message\n\n#upper-case all DataFrame column names\ndf.columns = map(str.upper, df.columns)\n\nprint(len(df))     #Number of observations (rows)\nprint(len(df.columns)) #Number of variables (columns)\n",
      "execution_count": null,
      "outputs": []
    },
    {
      "metadata": {
        "_kg_hide-input": true,
        "scrolled": false,
        "_uuid": "fed36c100d64926070f2908b05895f7a42967d57",
        "_cell_guid": "501c2bcb-dde7-461c-b10a-1ccbab0c2392",
        "_kg_hide-output": false,
        "trusted": false,
        "collapsed": true
      },
      "cell_type": "code",
      "source": "#Another option for displaying observation or rows in a Dataframe is\nprint(len(df.index))\n\n#df['S3BQ1A5'] = pd.to_numeric(df['S3BQ1A5'])\n#df['S3BD5Q2C'] = pd.to_numeric(df['S3BD5Q2C'])\n#df['S3BD5Q2E'] = pd.to_numeric(df['S3BD5Q2E'])\n\nprint ('count for S3BQ1A4 - Ever used cannabis Yes=1 No=2')\nc1 = df['S3BQ1A5'].value_counts(sort=False, dropna=False)\nprint (c1)\n\nprint ('percentages for S3BQ1A4 - Ever used cannabis')\np1 = df['S3BQ1A5'].value_counts(sort=False, normalize=True)\nprint (p1)\n\nprint ('count for S3BD5Q2C - Used cannabis in the last 12 month')\nc2 = df['S3BD5Q2C'].value_counts(sort=True)\nprint (c2)\n\nprint ('percentages for S3DB5Q2C - Used cannabis in the last 12 month')\np2 = df['S3BD5Q2C'].value_counts(sort=False, normalize=True)\nprint (p2)\n\nprint ('count for S3DB5Q2E - How often used cannabis when using the most')\nc3 = df['S3BD5Q2E'].value_counts(sort=True)\nprint (c3)\n\nprint ('percentages for S3BD5Q2E - How often used cannabis when using the most')\np3 = df['S3BD5Q2E'].value_counts(sort=False, normalize=True)\nprint (p3)\n\nprint ('count for S3BQ1A4 - Ever used cannabis Yes=1 No=2 GroupBy')\nct1 = df.groupby('S3BQ1A4').size()\nprint(ct1)\n\nprint ('percentages for S3BQ1A4 - Ever used cannabis GroupBy')\npt1 = df.groupby('S3BQ1A4').size() * 100 / len(df)\nprint(pt1)\n\n#df['S3BQ1A4'] = df[S3BQ1A4].convert_object(convert_numeric=True)\n\n#subset of dataframe of young adults age 18 to 25 who have smoked in the past 12 months\nsub1=df[(df['AGE']>=18) & (df['AGE']<=25) & (df['S3BQ1A4']==1)]\n#make a copy of my new subsetted data\nsub2=sub1.copy()\n\nprint('counts for age')\nc5 = sub2['AGE'].value_counts(sort=False)\nprint(c5)\n\nprint('percentages for AGE')\np5 = sub2['AGE'].value_counts(sort=False, normalize=True)\nprint(p5)\n\nprint('count for S3BQ1A4 ')\nc6 = sub2[\"S3BQ1A4\"].value_counts(sort=False)\nprint(c6)\n\nprint('percentages for S3BQ1A4')\np6 = sub2['S3BQ1A4'].value_counts(sort=False, normalize=True)\nprint(p6)\n",
      "execution_count": null,
      "outputs": []
    },
    {
      "metadata": {
        "_uuid": "1e4d95163c1ad785809bb47f9cb7b50574d2d840",
        "collapsed": true,
        "_cell_guid": "e23dbe6c-0dd0-4990-ba61-6962f0550d22",
        "trusted": false
      },
      "cell_type": "code",
      "source": "",
      "execution_count": null,
      "outputs": []
    }
  ],
  "metadata": {
    "language_info": {
      "name": "python",
      "version": "3.6.4",
      "mimetype": "text/x-python",
      "codemirror_mode": {
        "name": "ipython",
        "version": 3
      },
      "pygments_lexer": "ipython3",
      "nbconvert_exporter": "python",
      "file_extension": ".py"
    },
    "kernelspec": {
      "display_name": "Python 3",
      "language": "python",
      "name": "python3"
    }
  },
  "nbformat": 4,
  "nbformat_minor": 1
}